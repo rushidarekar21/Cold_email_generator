{
 "cells": [
  {
   "cell_type": "code",
   "execution_count": 2,
   "id": "baf4619e-6494-42f0-b544-a68fcd0f531b",
   "metadata": {},
   "outputs": [],
   "source": [
    "api_key = \"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\""
   ]
  },
  {
   "cell_type": "code",
   "execution_count": 3,
   "id": "c38b85a3-a06c-4d5a-8839-849ada9296a1",
   "metadata": {},
   "outputs": [],
   "source": [
    "from langchain_groq import ChatGroq\n",
    "\n",
    "llm = ChatGroq(\n",
    "    model=\"llama-3.1-70b-versatile\",\n",
    "    temperature=1,\n",
    "    groq_api_key = api_key\n",
    ")\n",
    "\n",
    "response = llm.invoke(\"Generate a format for cold email to H.R for a specific job profile\")"
   ]
  },
  {
   "cell_type": "code",
   "execution_count": 25,
   "id": "a6e1c3eb-bbd9-4998-b930-a4546234f90a",
   "metadata": {
    "scrolled": true
   },
   "outputs": [
    {
     "name": "stdout",
     "output_type": "stream",
     "text": [
      "Apply for Lead Data Engineer\n",
      "\n",
      "Search JobsSkip navigationSearch JobsNIKE, INC. JOBSContract JobsJoin The Talent CommunityLife @ NikeOverviewBenefitsBrandsOverviewJordanConverseTeamsOverviewAdministrative SupportAdvanced InnovationAir Manufacturing InnovationAviationCommunicationsCustomer ServiceDesignDigitalFacilitiesFinance & AccountingGovernment & Public AffairsHuman ResourcesInsights & AnalyticsLegalManufacturing & EngineeringMarketingMerchandisingPlanningPrivacyProcurementProduct Creation, Development & ManagementRetail CorporateRetail StoresSalesSocial & Community ImpactSports MarketingStrategic PlanningSupply Chain, Distribution & LogisticsSustainabilityTechnologyLocationsOverviewNike WHQNike New York HQEHQ: Hilversum, The NetherlandsELC: Laakdal, BelgiumGreater China HQDiversity, Equity & InclusionOverviewMilitary InclusionDisability InclusionIndigenous InclusionInternshipsData & AnalyticsLead Data EngineerKarnataka, IndiaBecome a Part of the NIKE, Inc. Team\n",
      "NIKE, Inc. does more than outfit the world’s best athletes. It is a place to explore potential, obliterate boundaries and push out the edges of what can be. The company looks for people who can grow, think, dream and create. Its culture thrives by embracing diversity and rewarding imagination. The brand seeks achievers, leaders and visionaries. At NIKE, Inc. it’s about each person bringing skills and passion to a challenging and constantly evolving game.WHO ARE WE LOOKING FORWe are looking for a Lead Data  Platform Engineer who excels in team environments and are excited about building cloud native platforms that can scale with the demand of our business. This role is part of Enterprise Architecture and Developer Experience aggressively innovates solutions to drive growth while creating and implementing tools that help make everything else in the company possible. The candidate needs to have a strong understanding of technical concepts, excellent attention to detail, data accuracy, and data analysis, strong verbal and written communication skills, and be self-motivated and operates with a high sense of urgency and a high level of integrity.WHAT WILL YOU WORK ONEvangelize and cultivate adoption of GPaaS, open source software and agile principles within the organizationDeveloping and Implementing Inhouse SolutionsEnsure solutions are designed and developed using a scalable, highly resilient cloud native architectureDeliver well-documented and well-tested code, and participate in peer code reviewsDesign and develop tools and frameworks to improve security, reliability, maintainability, availability and performance for the technology foundation of our platformEnsure product and technical features are delivered to spec and on-timeCollaborate with and consult other Nike development teams, architecture teams etc.Explain designs and constraints to stakeholders and technical teams, gather alignment and buy-inProvide responsive support and operations for the platforms you help build.Work with product management to support product / service scoping activitiesWork with leadership to define delivery schedules of key features through an agile frameworkBe a key contributor to overall architecture, framework and design of GPaaSWHO WILL YOU WORK WITHThis role is part of the Global PaaS and work with Advanced Computing teamWHAT YOU BRING Minimum 8+ years of working experience in designing and building production grade Microservices in any programming languages preferably  in Python Extensive Experience in Big Data Technologies - Databricks, EMR’s and Other Cloud Compute ToolsMust have Experience in AWS web Services (like EC2, RDS, Lambda, S3, LoadBalancer, ECS, EKS etc). Experience Building end to end CI/CD pipeline to build, test and deploy to different AWS environments such as lambda, EC2,ECS , EKS etc.Familiarity with software engineering best practices – including unit tests, code review, version control, production monitoring, etc.Strong Experience on Jenkins, Terraform, Docker, Kubernetes etc.,Strong understanding of OOP Concepts, Data Structures and Design Patterns.Strong understanding of Web Services, Caching, Scalability, REST Principles.Have knowledge of databases like Databricks SQL, Trino, MySQL, Postgresql etc.Good Knowledge of computer science fundamentalsExperience with different services of AWS.Ability to work independently in a fast paced and agile development environment.Keen to explore new technologies.Knowledge of Data GovernanceNIKE, Inc. is a growth company that looks for team members to grow with it. Nike offers a generous total rewards package, casual work environment, a diverse and inclusive culture, and an electric atmosphere for professional development. No matter the location, or the role, every Nike employee shares one galvanizing mission: To bring inspiration and innovation to every athlete* in the world.NIKE, Inc. is committed to employing a diverse workforce. Qualified applicants will receive consideration without regard to race, color, religion, sex, national origin, age, sexual orientation, gender identity, gender expression, veteran status, or disability.How We HireAt NIKE, Inc. we promise to provide a premium, inclusive, compelling and authentic candidate experience. Delivering on this promise means we allow you to be at your best — and to do that, you need to understand how the hiring process works. Transparency is key.\n",
      "\n",
      "* This overview explains our hiring process for corporate roles. Note there may be different hiring steps involved for non-corporate roles.Start nowBenefitsWhether it’s transportation or financial health, we continually invest in our employees to help them achieve greatness — inside and outside of work. All who work here should be able to realize their full potential.Employee Assistance ProgramHolidaysMedical PlanPaid Time Off (PTO)Product DiscountsLearn moreFIND A STOREBECOME A MEMBERSIGN UP FOR EMAILSEND US FEEDBACKSTUDENT DISCOUNTSGET HELPGET HELPOrder StatusDeliveryReturnsPayment OptionsContact Us On Nike.com InquiriesContact Us On All Other InquiriesABOUT NIKEABOUT NIKENewsCareersInvestorsSustainabilityIndia© 2024 Nike, Inc. All Rights ReservedGuidesNike AdaptNike Air MaxNike FlyleatherNike PegasusNike Zoom FlyNike AirNike FlyEaseNike FreeNike ReactNike ZoomXNike Air Force 1Nike FlyknitNike JoyrideNike VaporflyTerms of SaleTerms of UseNike Privacy Policy\n"
     ]
    }
   ],
   "source": [
    "from langchain_community.document_loaders import WebBaseLoader\n",
    "\n",
    "loader = WebBaseLoader(\"https://jobs.nike.com/job/R-34832?from=job%20search%20funnel\")\n",
    "page_data = loader.load().pop().page_content\n",
    "print(page_data)"
   ]
  },
  {
   "cell_type": "code",
   "execution_count": 26,
   "id": "68aceeb2-c222-49aa-a140-8ec33b730eb0",
   "metadata": {},
   "outputs": [],
   "source": [
    "from langchain_core.prompts import PromptTemplate\n",
    "\n",
    "prompt_extract = PromptTemplate.from_template(\n",
    "    \"\"\"\n",
    "    ### SCRAPED INFORMATION FROM WEBSITE\n",
    "    {page_data}\n",
    "    ### INSTRUCTION\n",
    "    this is extracted text from a career page of website.\n",
    "    Your job is to extract extract the job posting and return them in json format containing  following keys\n",
    "    : 'role' , 'skills' , 'description'.\n",
    "    Only return the valid json \n",
    "    ### Valid Json (NO PREAMBLE)\n",
    "    \"\"\"\n",
    ")\n",
    "\n",
    "chain_extract = prompt_extract|llm\n",
    "res = chain_extract.invoke(input={'page_data':page_data})"
   ]
  },
  {
   "cell_type": "code",
   "execution_count": 27,
   "id": "81e1cd53-506d-437a-b3cc-2dd25ace0b9f",
   "metadata": {},
   "outputs": [
    {
     "name": "stdout",
     "output_type": "stream",
     "text": [
      "{\"role\": \"Lead Data Engineer\", \"skills\": [\"AWS web Services\", \"Databricks\", \"EMR\", \"Python\", \"Microservices\", \"CI/CD pipeline\", \"Jenkins\", \"Terraform\", \"Docker\", \"Kubernetes\", \"OOP Concepts\", \"Data Structures\", \"Design Patterns\", \"Web Services\", \"Caching\", \"Scalability\", \"REST Principles\", \"Databases\", \"Computer science fundamentals\", \"Data Governance\"], \"description\": \"We are looking for a Lead Data Platform Engineer who excels in team environments and are excited about building cloud native platforms that can scale with the demand of our business. This role is part of Enterprise Architecture and Developer Experience aggressively innovates solutions to drive growth while creating and implementing tools that help make everything else in the company possible.\"}\n"
     ]
    }
   ],
   "source": [
    "print(res.content)"
   ]
  },
  {
   "cell_type": "code",
   "execution_count": 13,
   "id": "ecc08df4-9937-4ca3-9f39-f2110cab1240",
   "metadata": {},
   "outputs": [
    {
     "name": "stdout",
     "output_type": "stream",
     "text": [
      "<class 'str'>\n"
     ]
    }
   ],
   "source": [
    "print(type(res.content))"
   ]
  },
  {
   "cell_type": "code",
   "execution_count": null,
   "id": "b4c503cf-d121-4234-b513-a6ca3216ee83",
   "metadata": {},
   "outputs": [],
   "source": []
  },
  {
   "cell_type": "code",
   "execution_count": 28,
   "id": "a8b057b2-6163-41f9-a643-d5945c880a96",
   "metadata": {},
   "outputs": [
    {
     "data": {
      "text/plain": [
       "{'role': 'Lead Data Engineer',\n",
       " 'skills': ['AWS web Services',\n",
       "  'Databricks',\n",
       "  'EMR',\n",
       "  'Python',\n",
       "  'Microservices',\n",
       "  'CI/CD pipeline',\n",
       "  'Jenkins',\n",
       "  'Terraform',\n",
       "  'Docker',\n",
       "  'Kubernetes',\n",
       "  'OOP Concepts',\n",
       "  'Data Structures',\n",
       "  'Design Patterns',\n",
       "  'Web Services',\n",
       "  'Caching',\n",
       "  'Scalability',\n",
       "  'REST Principles',\n",
       "  'Databases',\n",
       "  'Computer science fundamentals',\n",
       "  'Data Governance'],\n",
       " 'description': 'We are looking for a Lead Data Platform Engineer who excels in team environments and are excited about building cloud native platforms that can scale with the demand of our business. This role is part of Enterprise Architecture and Developer Experience aggressively innovates solutions to drive growth while creating and implementing tools that help make everything else in the company possible.'}"
      ]
     },
     "execution_count": 28,
     "metadata": {},
     "output_type": "execute_result"
    }
   ],
   "source": [
    "from langchain_core.output_parsers  import JsonOutputParser\n",
    "\n",
    "json_parser = JsonOutputParser()\n",
    "json_res = json_parser.parse(res.content)\n",
    "json_res"
   ]
  },
  {
   "cell_type": "code",
   "execution_count": 8,
   "id": "0d34a103-1a76-4843-92aa-94409ffe85f9",
   "metadata": {},
   "outputs": [],
   "source": [
    "import pandas as pd"
   ]
  },
  {
   "cell_type": "code",
   "execution_count": 9,
   "id": "e926c373-96ad-4c66-83d2-ccc75bf3c253",
   "metadata": {},
   "outputs": [],
   "source": [
    "df = pd.read_csv('my_portfolio.csv')"
   ]
  },
  {
   "cell_type": "code",
   "execution_count": 10,
   "id": "d568f688-aa5b-4198-90f1-cfc21445028f",
   "metadata": {},
   "outputs": [
    {
     "data": {
      "text/html": [
       "<div>\n",
       "<style scoped>\n",
       "    .dataframe tbody tr th:only-of-type {\n",
       "        vertical-align: middle;\n",
       "    }\n",
       "\n",
       "    .dataframe tbody tr th {\n",
       "        vertical-align: top;\n",
       "    }\n",
       "\n",
       "    .dataframe thead th {\n",
       "        text-align: right;\n",
       "    }\n",
       "</style>\n",
       "<table border=\"1\" class=\"dataframe\">\n",
       "  <thead>\n",
       "    <tr style=\"text-align: right;\">\n",
       "      <th></th>\n",
       "      <th>Techstack</th>\n",
       "      <th>Links</th>\n",
       "    </tr>\n",
       "  </thead>\n",
       "  <tbody>\n",
       "    <tr>\n",
       "      <th>0</th>\n",
       "      <td>React, Node.js, MongoDB</td>\n",
       "      <td>https://example.com/react-portfolio</td>\n",
       "    </tr>\n",
       "    <tr>\n",
       "      <th>1</th>\n",
       "      <td>Angular,.NET, SQL Server</td>\n",
       "      <td>https://example.com/angular-portfolio</td>\n",
       "    </tr>\n",
       "    <tr>\n",
       "      <th>2</th>\n",
       "      <td>Vue.js, Ruby on Rails, PostgreSQL</td>\n",
       "      <td>https://example.com/vue-portfolio</td>\n",
       "    </tr>\n",
       "    <tr>\n",
       "      <th>3</th>\n",
       "      <td>Python, Django, MySQL</td>\n",
       "      <td>https://example.com/python-portfolio</td>\n",
       "    </tr>\n",
       "    <tr>\n",
       "      <th>4</th>\n",
       "      <td>Java, Spring Boot, Oracle</td>\n",
       "      <td>https://example.com/java-portfolio</td>\n",
       "    </tr>\n",
       "  </tbody>\n",
       "</table>\n",
       "</div>"
      ],
      "text/plain": [
       "                           Techstack                                  Links\n",
       "0            React, Node.js, MongoDB    https://example.com/react-portfolio\n",
       "1           Angular,.NET, SQL Server  https://example.com/angular-portfolio\n",
       "2  Vue.js, Ruby on Rails, PostgreSQL      https://example.com/vue-portfolio\n",
       "3              Python, Django, MySQL   https://example.com/python-portfolio\n",
       "4          Java, Spring Boot, Oracle     https://example.com/java-portfolio"
      ]
     },
     "execution_count": 10,
     "metadata": {},
     "output_type": "execute_result"
    }
   ],
   "source": [
    "df.head()"
   ]
  },
  {
   "cell_type": "code",
   "execution_count": 16,
   "id": "7911d244-2e69-44ab-956e-746a41d3b087",
   "metadata": {},
   "outputs": [],
   "source": [
    "import chromadb\n",
    "\n",
    "client = chromadb.PersistentClient('vetor_database')\n",
    "collection = client.create_collection(name = \"portfolio\")"
   ]
  },
  {
   "cell_type": "code",
   "execution_count": 17,
   "id": "fbc9b99c-e249-488d-98ba-f7de7e2fda8a",
   "metadata": {},
   "outputs": [
    {
     "name": "stdout",
     "output_type": "stream",
     "text": [
      "All records (tech stack and links) stored in Chroma DB.\n"
     ]
    }
   ],
   "source": [
    "for index, row in df.iterrows():\n",
    "    tech_stack = row['Techstack'] \n",
    "    link = row['Links']  \n",
    "    \n",
    "    # Store metadata \n",
    "    collection.add(\n",
    "        documents = tech_stack, \n",
    "        metadatas=[{ \"links\": link}],\n",
    "        ids=[f\"id_{index}\"]\n",
    "    )\n",
    "\n",
    "print(\"All records (tech stack and links) stored in Chroma DB.\")"
   ]
  },
  {
   "cell_type": "code",
   "execution_count": 21,
   "id": "1308c42a-8f2d-4c7e-a34e-ef79238060d1",
   "metadata": {},
   "outputs": [
    {
     "data": {
      "text/plain": [
       "{'ids': [['id_3']],\n",
       " 'distances': [[0.17932198553737616]],\n",
       " 'metadatas': [[{'links': 'https://example.com/python-portfolio'}]],\n",
       " 'embeddings': None,\n",
       " 'documents': [['Python, Django, MySQL']],\n",
       " 'uris': None,\n",
       " 'data': None,\n",
       " 'included': ['metadatas', 'documents', 'distances']}"
      ]
     },
     "execution_count": 21,
     "metadata": {},
     "output_type": "execute_result"
    }
   ],
   "source": [
    "results = collection.query(\n",
    "    query_texts= \"django mysql\",\n",
    "    n_results=1,\n",
    "    \n",
    ")\n",
    "results"
   ]
  },
  {
   "cell_type": "code",
   "execution_count": 29,
   "id": "7e77af9c-62c5-4d3c-b5d9-b6c68afc133e",
   "metadata": {},
   "outputs": [
    {
     "data": {
      "text/plain": [
       "['AWS web Services',\n",
       " 'Databricks',\n",
       " 'EMR',\n",
       " 'Python',\n",
       " 'Microservices',\n",
       " 'CI/CD pipeline',\n",
       " 'Jenkins',\n",
       " 'Terraform',\n",
       " 'Docker',\n",
       " 'Kubernetes',\n",
       " 'OOP Concepts',\n",
       " 'Data Structures',\n",
       " 'Design Patterns',\n",
       " 'Web Services',\n",
       " 'Caching',\n",
       " 'Scalability',\n",
       " 'REST Principles',\n",
       " 'Databases',\n",
       " 'Computer science fundamentals',\n",
       " 'Data Governance']"
      ]
     },
     "execution_count": 29,
     "metadata": {},
     "output_type": "execute_result"
    }
   ],
   "source": [
    "json_res['skills']"
   ]
  },
  {
   "cell_type": "code",
   "execution_count": 33,
   "id": "8804893c-09c8-4dd2-8d2f-e7bd41324a24",
   "metadata": {},
   "outputs": [],
   "source": [
    "prompt_email = PromptTemplate.from_template(\n",
    "    \"\"\"\n",
    "    ### JOB DESCRIPTION :\n",
    "    {job_description}\n",
    "    ### INSTRUCTION:\n",
    "    You are a employ of service based startup named spy .Spy  is an AI & Software Consulting company dedicated to facilitating\n",
    "    he seamless integration of business processes through automated tools. \n",
    "    Your job is to write a cold email for the job role which is given in job description.Also add relevant portfolio links in the email:{link_list}\n",
    "    Do Not Provide Preamble.\n",
    "    ### Email(no preamble)\n",
    "    \"\"\"\n",
    ")"
   ]
  },
  {
   "cell_type": "code",
   "execution_count": 36,
   "id": "4f219ca4-8d86-4307-a636-6872d867cf4c",
   "metadata": {},
   "outputs": [
    {
     "name": "stdout",
     "output_type": "stream",
     "text": [
      "['https://example.com/react-portfolio', 'https://example.com/angular-portfolio', 'https://example.com/android-portfolio', 'https://example.com/kotlin-android-portfolio', 'https://example.com/android-tv-portfolio', 'https://example.com/ios-ar-portfolio', 'https://example.com/xamarin-portfolio', 'https://example.com/kotlin-backend-portfolio', 'https://example.com/typescript-frontend-portfolio', 'https://example.com/full-stack-js-portfolio', 'https://example.com/ml-python-portfolio', 'https://example.com/devops-portfolio', 'https://example.com/vue-portfolio', 'https://example.com/python-portfolio', 'https://example.com/java-portfolio', 'https://example.com/flutter-portfolio', 'https://example.com/wordpress-portfolio', 'https://example.com/magento-portfolio', 'https://example.com/react-native-portfolio', 'https://example.com/ios-portfolio']\n"
     ]
    }
   ],
   "source": [
    "results = collection.get()\n",
    "links = [metadata['links'] for metadata in results['metadatas']]\n",
    "print(links)"
   ]
  },
  {
   "cell_type": "code",
   "execution_count": 37,
   "id": "906cb6a5-0364-432a-aaad-91d2e161d543",
   "metadata": {},
   "outputs": [],
   "source": [
    "chain_email = prompt_email | llm\n",
    "res = chain_email.invoke({\"job_description\" : str(json_res),\"link_list\":links})\n"
   ]
  },
  {
   "cell_type": "code",
   "execution_count": 39,
   "id": "076098bb-a1a3-42dc-a9f5-1bf0515efe37",
   "metadata": {},
   "outputs": [
    {
     "name": "stdout",
     "output_type": "stream",
     "text": [
      "Subject: Lead Data Engineer Application for Cloud-Native Platform Development\n",
      "\n",
      "Dear Hiring Manager,\n",
      "\n",
      "I came across the Lead Data Engineer position at your esteemed organization and was impressed by the company's commitment to innovation and growth. As a seasoned data engineer with a passion for building scalable cloud-native platforms, I'm excited to apply for this role.\n",
      "\n",
      "With expertise in AWS web services, Databricks, EMR, and containerization using Docker, I've successfully designed and implemented data pipelines that have resulted in significant increases in data processing efficiency. My proficiency in CI/CD pipelines using Jenkins has enabled teams to automate testing and deployment, reducing time-to-market and improving overall product quality.\n",
      "\n",
      "As a strong believer in the importance of data governance, I've implemented scalable data architectures that ensure data integrity, security, and compliance. My experience with Terraform has allowed me to manage infrastructure as code, streamlining deployment and management of cloud resources.\n",
      "\n",
      "Some of my notable projects include:\n",
      "\n",
      "* Developed a real-time data pipeline using Databricks, Apache Spark, and AWS Kinesis for a leading e-commerce company, resulting in a 30% increase in sales. (Portfolio link: https://github.com/spy-consulting/data-pipeline)\n",
      "* Designed and implemented a containerized microservices architecture using Docker, Kubernetes, and AWS ECS for a fintech startup, resulting in a 50% reduction in infrastructure costs. (Portfolio link: https://github.com/spy-consulting/containerized-microservices)\n",
      "\n",
      "As a Lead Data Engineer at your organization, I aim to leverage my expertise in cloud-native platform development, data governance, and CI/CD pipelines to drive business growth and innovation. I'm excited about the opportunity to join your team and contribute to the development of cutting-edge solutions.\n",
      "\n",
      "Please find my portfolio and resume below:\n",
      "\n",
      "Portfolio: https://github.com/spy-consulting\n",
      "Resume: https://www.linkedin.com/in/your-linked-in-profile\n",
      "\n",
      "I look forward to discussing this opportunity further and exploring how I can contribute to your organization's success.\n",
      "\n",
      "Best regards,\n",
      "\n",
      "[Your Name]\n",
      "Lead Data Engineer\n",
      "Spy - AI & Software Consulting Company\n"
     ]
    }
   ],
   "source": [
    "print(res.content)"
   ]
  }
 ],
 "metadata": {
  "kernelspec": {
   "display_name": "Python 3 (ipykernel)",
   "language": "python",
   "name": "python3"
  },
  "language_info": {
   "codemirror_mode": {
    "name": "ipython",
    "version": 3
   },
   "file_extension": ".py",
   "mimetype": "text/x-python",
   "name": "python",
   "nbconvert_exporter": "python",
   "pygments_lexer": "ipython3",
   "version": "3.11.7"
  }
 },
 "nbformat": 4,
 "nbformat_minor": 5
}
