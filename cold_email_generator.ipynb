{
 "cells": [
  {
   "cell_type": "code",
   "execution_count": 1,
   "id": "c61dd796-61b9-4c54-8d50-335015dfb84b",
   "metadata": {},
   "outputs": [],
   "source": [
    "api_key = \"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\""
   ]
  },
  {
   "cell_type": "code",
   "execution_count": 2,
   "id": "11d9b98c-3fef-4804-9ca8-f0254c4ced3c",
   "metadata": {},
   "outputs": [
    {
     "name": "stdout",
     "output_type": "stream",
     "text": [
      "Note: you may need to restart the kernel to use updated packages.\n"
     ]
    },
    {
     "name": "stderr",
     "output_type": "stream",
     "text": [
      "\n",
      "[notice] A new release of pip is available: 24.1 -> 24.2\n",
      "[notice] To update, run: python.exe -m pip install --upgrade pip\n"
     ]
    }
   ],
   "source": [
    "%pip install -qU langchain-groq"
   ]
  },
  {
   "cell_type": "code",
   "execution_count": 3,
   "id": "0c9a34bd-d76d-4dd3-9ea0-3024be21d1fb",
   "metadata": {},
   "outputs": [],
   "source": [
    "from langchain_groq import ChatGroq\n",
    "\n",
    "llm = ChatGroq(\n",
    "    model=\"llama-3.1-70b-versatile\",\n",
    "    temperature=1,\n",
    "    groq_api_key = api_key\n",
    ")\n",
    "\n",
    "response = llm.invoke(\"Generate a format for cold email to H.R for a specific job profile\")"
   ]
  },
  {
   "cell_type": "code",
   "execution_count": 6,
   "id": "950dd661-4abe-462f-9f9b-510b91988fd4",
   "metadata": {
    "scrolled": true
   },
   "outputs": [
    {
     "name": "stdout",
     "output_type": "stream",
     "text": [
      "**Subject: Application for [Job Profile] Position at [Company Name]**\n",
      "\n",
      "**Dear [H.R Representative's Name],**\n",
      "\n",
      "I hope this email finds you well. My name is [Your Name], and I am writing to express my interest in the [Job Profile] position currently available at [Company Name]. With [Number of Years] years of experience in [Industry/Field], I am confident that my skills and expertise make me an ideal candidate for this role.\n",
      "\n",
      "**Summary of Qualifications:**\n",
      "\n",
      "- [Relevant Skill 1]: [Example of how you applied this skill in a previous role or project]\n",
      "- [Relevant Skill 2]: [Example of how you applied this skill in a previous role or project]\n",
      "- [Relevant Skill 3]: [Example of how you applied this skill in a previous role or project]\n",
      "\n",
      "**Why I am the Perfect Fit:**\n",
      "\n",
      "- I am particularly drawn to [Company Name] because of its [Reason for Interest in the Company]. As someone who is passionate about [Industry/Field], I believe that I would be an excellent fit for the team.\n",
      "- My background in [Relevant Experience or Education] has equipped me with the skills and knowledge necessary to excel in this role. I am excited about the prospect of bringing my expertise to [Company Name] and contributing to the team's success.\n",
      "\n",
      "**How I Can Contribute:**\n",
      "\n",
      "- I would like to highlight my achievements in [Previous Role or Project], where I [Accomplishment 1], [Accomplishment 2], and [Accomplishment 3]. These achievements demonstrate my ability to [Desirable Skill or Trait] and drive results in fast-paced environments.\n",
      "- I am confident that my passion for [Industry/Field], combined with my technical expertise and experience, make me an excellent candidate for the [Job Profile] position.\n",
      "\n",
      "**Next Steps:**\n",
      "\n",
      "- I have attached my resume and a brief portfolio that showcases my work and accomplishments. I would be delighted to schedule a meeting to discuss my application and how I can contribute to the success of [Company Name].\n",
      "- Please feel free to contact me at [Your Email Address] or [Your Phone Number] if you require any additional information.\n",
      "\n",
      "**Closing:**\n",
      "\n",
      "Thank you for considering my application. I look forward to the opportunity to discuss how my skills and experience align with the needs of [Company Name].\n",
      "\n",
      "Best regards,\n",
      "\n",
      "[Your Name]\n",
      "\n",
      "**Attachments:**\n",
      "\n",
      "- [Your Resume]\n",
      "- [Your Portfolio or Relevant Work Samples]\n",
      "\n",
      "**Tips:**\n",
      "\n",
      "- Research the company thoroughly and tailor your email to the specific job profile and company.\n",
      "- Use a clear and concise subject line and introduction.\n",
      "- Use bullet points and a brief summary to make your email scannable.\n",
      "- Use specific examples to demonstrate your skills and expertise.\n",
      "- End with a call-to-action and include your contact information.\n",
      "- Proofread your email multiple times before sending to ensure error-free and polished writing.\n"
     ]
    }
   ],
   "source": [
    "print(response.content)"
   ]
  },
  {
   "cell_type": "code",
   "execution_count": null,
   "id": "76b2688d-d4f8-44a9-82cf-a6e2e845d49a",
   "metadata": {},
   "outputs": [],
   "source": []
  }
 ],
 "metadata": {
  "kernelspec": {
   "display_name": "Python 3 (ipykernel)",
   "language": "python",
   "name": "python3"
  },
  "language_info": {
   "codemirror_mode": {
    "name": "ipython",
    "version": 3
   },
   "file_extension": ".py",
   "mimetype": "text/x-python",
   "name": "python",
   "nbconvert_exporter": "python",
   "pygments_lexer": "ipython3",
   "version": "3.11.7"
  }
 },
 "nbformat": 4,
 "nbformat_minor": 5
}
